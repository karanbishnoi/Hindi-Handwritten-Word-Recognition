{
 "cells": [
  {
   "cell_type": "code",
   "execution_count": null,
   "metadata": {
    "id": "QBgrPR5qvyFh"
   },
   "outputs": [],
   "source": [
    "import numpy as np\n",
    "import pandas as pd\n",
    "import os\n",
    "import keras\n",
    "from keras.layers import Conv2D, MaxPool2D, Flatten, Dense, Dropout, BatchNormalization\n",
    "from keras.preprocessing.image import ImageDataGenerator\n",
    "from keras.models import Sequential\n",
    "from keras import regularizers\n",
    "from sklearn.model_selection import train_test_split\n",
    "import cv2\n",
    "import matplotlib.pyplot as plt\n",
    "import seaborn as sns\n",
    "import random\n",
    "from keras.callbacks import ModelCheckpoint"
   ]
  },
  {
   "cell_type": "code",
   "execution_count": null,
   "metadata": {
    "id": "EHZdtIz4vy0m"
   },
   "outputs": [],
   "source": [
    "data_dir = '/content/drive/MyDrive/data/consonants'\n",
    "CATEGORIES = ['1','4','6','8','10','11','12','13','16','18','19','20',\n",
    "              '21','22','23','25','27','28','29','31','32','33','34','35','36']"
   ]
  },
  {
   "cell_type": "code",
   "execution_count": null,
   "metadata": {},
   "outputs": [],
   "source": [
    "def load_unique(DIR):\n",
    "    images_for_plot = []\n",
    "    labels_for_plot = []\n",
    "    size_img = 64,64\n",
    "    for category in CATEGORIES:\n",
    "        path = os.path.join(DIR,category)\n",
    "        class_num = category\n",
    "        print(category, end = ' | ')\n",
    "        for img in os.listdir(path):\n",
    "            image = cv2.imread(os.path.join(path,img))\n",
    "            final_img = cv2.resize(image, size_img)\n",
    "            final_img = cv2.cvtColor(final_img, cv2.COLOR_BGR2GRAY)\n",
    "            images_for_plot.append(final_img)\n",
    "            labels_for_plot.append(class_num)\n",
    "            break\n",
    "    return images_for_plot, labels_for_plot\n",
    "\n",
    "images_for_plot, labels_for_plot = load_unique(data_dir)\n",
    "print(\"unique_labels = \", labels_for_plot)\n",
    "\n",
    "fig = plt.figure(figsize = (15,15))\n",
    "def plot_images(fig, image, label, row, col, index):\n",
    "    fig.add_subplot(row, col, index)\n",
    "    plt.axis('off')\n",
    "    plt.imshow(image, cmap = 'gray')\n",
    "    plt.title(label)\n",
    "    return\n",
    "\n",
    "image_index = 0\n",
    "row = 5\n",
    "col = 6\n",
    "for i in range(1,(row*col)):\n",
    "    if i > 25:\n",
    "      break\n",
    "    plot_images(fig, images_for_plot[image_index], labels_for_plot[image_index], row, col, i)\n",
    "    image_index = image_index + 1\n",
    "plt.show()"
   ]
  },
  {
   "cell_type": "code",
   "execution_count": null,
   "metadata": {
    "id": "uzoMPYg-v5v7"
   },
   "outputs": [],
   "source": [
    "def load_data_train(DIR):\n",
    "    train_data = []\n",
    "    size = 32,32\n",
    "    print(\"LOADING DATA FROM : \",end = \"\")\n",
    "    for category in CATEGORIES:\n",
    "        path = os.path.join(DIR,category)\n",
    "        class_num=CATEGORIES.index(category)\n",
    "        print(category, end = ' | ')\n",
    "        for img in os.listdir(path):\n",
    "            img_array=cv2.imread(os.path.join(path,img))\n",
    "            try:\n",
    "                new_array = cv2.resize(img_array,size)\n",
    "                final_img = cv2.cvtColor(new_array, cv2.COLOR_BGR2GRAY)\n",
    "                train_data.append([final_img,class_num])\n",
    "            except:\n",
    "                print(os.path.join(path,img))\n",
    "    random.shuffle(train_data)\n",
    "    X=[]\n",
    "    Y=[]\n",
    "    for features, label in train_data:\n",
    "        X.append(features)\n",
    "        Y.append(label)\n",
    "    X = np.array(X).reshape(-1,32,32,1)\n",
    "    Y = np.array(Y)\n",
    "    X = X.astype('float32')/255.0\n",
    "    \n",
    "    Y = keras.utils.to_categorical(Y,25)\n",
    "    \n",
    "    X_train, X_test, Y_train, Y_test = train_test_split(X, Y, test_size = 0.2)\n",
    "    \n",
    "    print()\n",
    "    print('Loaded', len(X_train),'images for training,','Train data shape =',X_train.shape)\n",
    "    print('Loaded', len(X_test),'images for testing','Test data shape =',X_test.shape)\n",
    "    \n",
    "    return X_train, X_test, Y_train, Y_test"
   ]
  },
  {
   "cell_type": "code",
   "execution_count": null,
   "metadata": {},
   "outputs": [],
   "source": [
    "X_train, X_test, Y_train, Y_test = load_data_train(data_dir)"
   ]
  },
  {
   "cell_type": "code",
   "execution_count": null,
   "metadata": {
    "id": "1HuJl5Kr11-U"
   },
   "outputs": [],
   "source": [
    "def create_model():\n",
    "    model = Sequential()\n",
    "    model.add(Conv2D(32, kernel_size = [3,3], activation = 'relu', input_shape = (32,32,1)))\n",
    "    model.add(Conv2D(64, kernel_size = [3,3], activation = 'relu'))\n",
    "    model.add(MaxPool2D(pool_size=(2, 2), strides=(2, 2), padding=\"same\"))\n",
    "    \n",
    "    model.add(Conv2D(64, kernel_size = [3,3], activation = 'relu'))\n",
    "    model.add(Conv2D(64, kernel_size = [3,3], activation = 'relu'))\n",
    "    model.add(MaxPool2D(pool_size=(2, 2), strides=(2, 2), padding=\"same\"))\n",
    "\n",
    "    model.add(Dropout(0.2))\n",
    "    model.add(Flatten())\n",
    "    model.add(Dense(128, activation = 'relu'))\n",
    "    model.add(Dense(64, activation = 'relu'))\n",
    "    model.add(Dense(25, activation = 'softmax'))\n",
    "    model.compile(optimizer = 'adam', loss = 'categorical_crossentropy', metrics = [\"accuracy\"])\n",
    "    print(\"MODEL CREATED\")\n",
    "    model.summary()\n",
    "    return model\n",
    "\n",
    "def fit_model():\n",
    "    checkpointer = ModelCheckpoint(filepath='model.weights.best.hdf5', verbose=1, \n",
    "                               save_best_only=True)\n",
    "    model_hist = model.fit(X_train, Y_train, batch_size = 32, epochs = 3,\n",
    "          validation_split = 0.2, callbacks = [checkpointer], \n",
    "          verbose=1, shuffle=True)\n",
    "    return model_hist "
   ]
  },
  {
   "cell_type": "code",
   "execution_count": null,
   "metadata": {
    "colab": {
     "base_uri": "https://localhost:8080/"
    },
    "id": "Rt7kyZuE3aWI",
    "outputId": "f41fd87d-c4e3-4cca-bf0c-a55564893012"
   },
   "outputs": [
    {
     "name": "stdout",
     "output_type": "stream",
     "text": [
      "MODEL CREATED\n",
      "Model: \"sequential_15\"\n",
      "_________________________________________________________________\n",
      "Layer (type)                 Output Shape              Param #   \n",
      "=================================================================\n",
      "conv2d_44 (Conv2D)           (None, 30, 30, 32)        320       \n",
      "_________________________________________________________________\n",
      "conv2d_45 (Conv2D)           (None, 28, 28, 64)        18496     \n",
      "_________________________________________________________________\n",
      "max_pooling2d_22 (MaxPooling (None, 14, 14, 64)        0         \n",
      "_________________________________________________________________\n",
      "conv2d_46 (Conv2D)           (None, 12, 12, 64)        36928     \n",
      "_________________________________________________________________\n",
      "conv2d_47 (Conv2D)           (None, 10, 10, 128)       73856     \n",
      "_________________________________________________________________\n",
      "max_pooling2d_23 (MaxPooling (None, 5, 5, 128)         0         \n",
      "_________________________________________________________________\n",
      "dropout_14 (Dropout)         (None, 5, 5, 128)         0         \n",
      "_________________________________________________________________\n",
      "flatten_14 (Flatten)         (None, 3200)              0         \n",
      "_________________________________________________________________\n",
      "dense_33 (Dense)             (None, 128)               409728    \n",
      "_________________________________________________________________\n",
      "dense_34 (Dense)             (None, 64)                8256      \n",
      "_________________________________________________________________\n",
      "dense_35 (Dense)             (None, 25)                1625      \n",
      "=================================================================\n",
      "Total params: 549,209\n",
      "Trainable params: 549,209\n",
      "Non-trainable params: 0\n",
      "_________________________________________________________________\n",
      "Epoch 1/3\n",
      "1000/1000 [==============================] - 151s 151ms/step - loss: 1.1188 - accuracy: 0.6713 - val_loss: 0.1367 - val_accuracy: 0.9574\n",
      "\n",
      "Epoch 00001: val_loss improved from inf to 0.13665, saving model to model.weights.best.hdf5\n",
      "Epoch 2/3\n",
      "1000/1000 [==============================] - 149s 149ms/step - loss: 0.1253 - accuracy: 0.9634 - val_loss: 0.0950 - val_accuracy: 0.9731\n",
      "\n",
      "Epoch 00002: val_loss improved from 0.13665 to 0.09499, saving model to model.weights.best.hdf5\n",
      "Epoch 3/3\n",
      "1000/1000 [==============================] - 149s 149ms/step - loss: 0.0755 - accuracy: 0.9767 - val_loss: 0.1043 - val_accuracy: 0.9669\n",
      "\n",
      "Epoch 00003: val_loss did not improve from 0.09499\n"
     ]
    }
   ],
   "source": [
    "model = create_model()\n",
    "model_hist = fit_model()"
   ]
  },
  {
   "cell_type": "code",
   "execution_count": null,
   "metadata": {
    "id": "RDXo_femv_KX"
   },
   "outputs": [],
   "source": [
    "model.load_weights('model.weights.best.hdf5')"
   ]
  },
  {
   "cell_type": "code",
   "execution_count": null,
   "metadata": {
    "colab": {
     "base_uri": "https://localhost:8080/"
    },
    "id": "j0RuwakNwCix",
    "outputId": "fae11f09-5c25-4e88-9a7d-c287d0a60319"
   },
   "outputs": [
    {
     "name": "stdout",
     "output_type": "stream",
     "text": [
      "313/313 [==============================] - 12s 38ms/step - loss: 0.0962 - accuracy: 0.9716\n",
      "\n",
      "Evaluation Accuracy =  97.16% \n",
      "Evaluation loss =  0.096222\n"
     ]
    }
   ],
   "source": [
    "evaluate_metrics = model.evaluate(X_test, Y_test)\n",
    "print(\"\\nEvaluation Accuracy = \", \"{:.2f}%\".format(evaluate_metrics[1]*100),\"\\nEvaluation loss = \" ,\"{:.6f}\".format(evaluate_metrics[0]))"
   ]
  },
  {
   "cell_type": "code",
   "execution_count": null,
   "metadata": {
    "id": "mPw8TRQx5xQf"
   },
   "outputs": [],
   "source": []
  }
 ],
 "metadata": {
  "colab": {
   "collapsed_sections": [],
   "name": "hindi letters.ipynb",
   "provenance": []
  },
  "kernelspec": {
   "display_name": "Python 3",
   "language": "python",
   "name": "python3"
  },
  "language_info": {
   "codemirror_mode": {
    "name": "ipython",
    "version": 3
   },
   "file_extension": ".py",
   "mimetype": "text/x-python",
   "name": "python",
   "nbconvert_exporter": "python",
   "pygments_lexer": "ipython3",
   "version": "3.8.5"
  }
 },
 "nbformat": 4,
 "nbformat_minor": 1
}
